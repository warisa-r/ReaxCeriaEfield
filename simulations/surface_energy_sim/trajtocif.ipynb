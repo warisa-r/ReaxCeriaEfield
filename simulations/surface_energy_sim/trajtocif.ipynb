{
 "cells": [
  {
   "cell_type": "code",
   "execution_count": 2,
   "metadata": {},
   "outputs": [],
   "source": [
    "from ase.io import read, write"
   ]
  },
  {
   "cell_type": "code",
   "execution_count": 7,
   "metadata": {},
   "outputs": [
    {
     "name": "stdout",
     "output_type": "stream",
     "text": [
      "Last frame saved as lastframe.cif\n"
     ]
    }
   ],
   "source": [
    "# Replace 'trajectory_file.lammpstrj' with your LAMMPS trajectory file name\n",
    "trajectory_file = '111dump.lammpstrj'\n",
    "\n",
    "# Read the entire trajectory\n",
    "trajectory = read(trajectory_file, index=':')\n",
    "\n",
    "# Extract the last frame\n",
    "last_frame = trajectory[-1]\n",
    "\n",
    "atom_type_mapping = {\n",
    "    1: 'Ce',\n",
    "    2: 'O',\n",
    "}\n",
    "\n",
    "for atom in last_frame:\n",
    "    old_type = atom.number  # or atom.symbol if atom types are initially symbols\n",
    "    new_symbol = atom_type_mapping.get(old_type)\n",
    "    if new_symbol:\n",
    "        atom.symbol = new_symbol\n",
    "    else:\n",
    "        raise ValueError(f\"Unmapped atom type: {old_type}\")\n",
    "\n",
    "# Write the last frame to a CIF file\n",
    "cif_file = 'lastframe.cif'\n",
    "write(cif_file, last_frame)\n",
    "\n",
    "print(f\"Last frame saved as {cif_file}\")\n"
   ]
  }
 ],
 "metadata": {
  "kernelspec": {
   "display_name": "Python 3",
   "language": "python",
   "name": "python3"
  },
  "language_info": {
   "codemirror_mode": {
    "name": "ipython",
    "version": 3
   },
   "file_extension": ".py",
   "mimetype": "text/x-python",
   "name": "python",
   "nbconvert_exporter": "python",
   "pygments_lexer": "ipython3",
   "version": "3.9.7"
  }
 },
 "nbformat": 4,
 "nbformat_minor": 2
}
