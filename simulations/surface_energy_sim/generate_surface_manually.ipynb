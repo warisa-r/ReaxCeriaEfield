{
 "cells": [
  {
   "cell_type": "markdown",
   "metadata": {},
   "source": [
    "Verification of 3.2.1 Stochiometric Surfaces\n",
    "\n",
    "start by creating surfaces with flourite structure"
   ]
  },
  {
   "cell_type": "code",
   "execution_count": 1,
   "metadata": {},
   "outputs": [],
   "source": [
    "from ase.io import read, write\n",
    "from ase.build import surface, make_supercell, sort\n",
    "\n",
    "structure = read(\"geometry_file\\CeO2_fluorite.cif\")"
   ]
  },
  {
   "cell_type": "code",
   "execution_count": 16,
   "metadata": {},
   "outputs": [],
   "source": [
    "from ase.io import read, write\n",
    "from ase.build import surface, make_supercell, sort\n",
    "\n",
    "structure = read(\"geometry_file\\CeO2_fluorite.cif\")\n",
    "slab = surface(structure, (1,1,1), layers=2, vacuum=10.0)\n",
    "write('test111slab.cif', slab, format='cif')\n"
   ]
  },
  {
   "cell_type": "code",
   "execution_count": null,
   "metadata": {},
   "outputs": [],
   "source": [
    "# (111) surface\n",
    "slab = surface(structure, (1,1,1), layers=16, vacuum=10.0)\n",
    "slab.center(vacuum=15.0, axis=2)\n",
    "# remove the top layers\n",
    "top_layer_z = max(slab.positions[:, 2])\n",
    "slab = slab[[atom.index for atom in slab if atom.position[2] < top_layer_z]]\n",
    "# remove 5 bottom layers\n",
    "for i in range(5):\n",
    "    bottom_layer_z = min(slab.positions[:, 2])\n",
    "    slab = slab[[atom.index for atom in slab if atom.position[2] > bottom_layer_z]]\n",
    "\n",
    "supercell = make_supercell(slab,[[4,0,0],[0,4,0],[0,0,1]])\n",
    "#write('111slab.cif', slab, format='cif')\n",
    "#write('111supercell.cif', supercell, format='cif')"
   ]
  },
  {
   "cell_type": "code",
   "execution_count": 14,
   "metadata": {},
   "outputs": [],
   "source": [
    "# (110) surface\n",
    "slab = surface(structure, (1,1,0), layers=20, vacuum=10.0)\n",
    "slab.center(vacuum=20.0, axis=2)\n",
    "\n",
    "for i in range(2):\n",
    "    top_layer_z = max(slab.positions[:, 2])\n",
    "    slab = slab[[atom.index for atom in slab if atom.position[2] < top_layer_z]]\n",
    "\n",
    "supercell = make_supercell(slab,[[4,0,0],[0,4,0],[0,0,1]])\n",
    "\n",
    "x_front = 0.1\n",
    "x_back = 28.9\n",
    "supercell = supercell[[atom.index for atom in supercell if atom.position[0] < x_back and atom.position[0] > x_front]]\n",
    "\n",
    "#write('110slab.cif', slab, format='cif')\n",
    "#write('110supercell.cif', supercell, format='cif')\n",
    "write('new110supercell.cif', supercell, format='cif')"
   ]
  },
  {
   "cell_type": "code",
   "execution_count": 2,
   "metadata": {},
   "outputs": [],
   "source": [
    "#new110slab\n",
    "from ase.io import read, write\n",
    "from ase.build import surface, make_supercell\n",
    "\n",
    "slab = read(\"geometry_file/110slab.cif\")\n",
    "supercell = make_supercell(slab,[[2,0,0],[0,1,0],[0,0,1]])\n",
    "bottom_z = 75.0\n",
    "front_x = 3.86\n",
    "supercell = supercell[[atom.index for atom in supercell if atom.position[2] > bottom_z]]\n",
    "supercell = supercell[[atom.index for atom in supercell if atom.position[0] > front_x]]\n",
    "write('new110slab.cif',supercell,format='cif')\n"
   ]
  },
  {
   "cell_type": "code",
   "execution_count": null,
   "metadata": {},
   "outputs": [],
   "source": [
    "# (100) surface\n",
    "slab = surface(structure, (1,0,0), layers=9, vacuum=10.0)\n",
    "slab.center(vacuum=15.0, axis=2)\n",
    "\n",
    "for i in range(2):\n",
    "    top_layer_z = max(slab.positions[:, 2])\n",
    "    slab = slab[[atom.index for atom in slab if atom.position[2] < top_layer_z]]\n",
    "\n",
    "supercell = make_supercell(slab,[[4,0,0],[0,4,0],[0,0,1]])\n",
    "#write('geometry_file/100slab.cif', slab, format='cif')\n",
    "#write('geometry_file/100supercell.cif', supercell, format='cif')"
   ]
  },
  {
   "cell_type": "code",
   "execution_count": 11,
   "metadata": {},
   "outputs": [],
   "source": [
    "def add_charges_to_atoms(input_file, output_file):\n",
    "    # Define the charges for each atom type\n",
    "    atom_charges = {\n",
    "        1: 4.0,  # Ce\n",
    "        2: -2.0  # O\n",
    "    }\n",
    "\n",
    "    # Read the file and store its contents\n",
    "    with open(input_file, \"r\") as file:\n",
    "        lines = file.readlines()\n",
    "\n",
    "    # Find the line number where atom information starts\n",
    "    atom_info_line = None\n",
    "    for i, line in enumerate(lines):\n",
    "        if line.strip().startswith(\"Atoms\"):\n",
    "            atom_info_line = i + 1\n",
    "            break\n",
    "\n",
    "    # If the line number is found, add charges to each atom\n",
    "    if atom_info_line is not None:\n",
    "        # Iterate through atom lines and add charges\n",
    "        for i in range(atom_info_line, len(lines)):\n",
    "            atom_line = lines[i].split()\n",
    "            if len(atom_line) < 2:\n",
    "                continue  # Skip lines that do not have enough elements\n",
    "            atom_index = atom_line[0]\n",
    "            atom_type = int(atom_line[1])\n",
    "            charge = atom_charges.get(atom_type)\n",
    "            if charge is not None:\n",
    "                # Modify the line to include charge\n",
    "                lines[i] = f\"         {atom_line[0]}         {atom_line[1]}   {charge}        {atom_line[2]}       {atom_line[3]}       {atom_line[4]}\\n\"\n",
    "\n",
    "    # Write the modified contents back to the output file\n",
    "    with open(output_file, \"w\") as file:\n",
    "        file.writelines(lines)"
   ]
  },
  {
   "cell_type": "markdown",
   "metadata": {},
   "source": [
    "Manually run this function only once to add charges for slab.lmp"
   ]
  },
  {
   "cell_type": "code",
   "execution_count": 15,
   "metadata": {},
   "outputs": [],
   "source": [
    "#add_charges_to_atoms(\"geometry_file/111supercell.lmp\",\"geometry_file/111supercell.lmp\")\n",
    "#add_charges_to_atoms(\"geometry_file/110supercell.lmp\",\"geometry_file/110supercell.lmp\")\n",
    "#add_charges_to_atoms(\"geometry_file/100slab.lmp\",\"geometry_file/100slab.lmp\")\n",
    "#add_charges_to_atoms(\"geometry_file/111slab.lmp\",\"geometry_file/e111slab.lmp\")\n",
    "#add_charges_to_atoms(\"geometry_file/new110slab.lmp\",\"geometry_file/new110slab.lmp\")\n",
    "#add_charges_to_atoms(\"new110supercell.lmp\",\"new110supercell.lmp\")"
   ]
  }
 ],
 "metadata": {
  "kernelspec": {
   "display_name": "Python 3",
   "language": "python",
   "name": "python3"
  },
  "language_info": {
   "codemirror_mode": {
    "name": "ipython",
    "version": 3
   },
   "file_extension": ".py",
   "mimetype": "text/x-python",
   "name": "python",
   "nbconvert_exporter": "python",
   "pygments_lexer": "ipython3",
   "version": "3.9.7"
  }
 },
 "nbformat": 4,
 "nbformat_minor": 2
}
