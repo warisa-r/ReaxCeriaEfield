{
 "cells": [
  {
   "cell_type": "markdown",
   "metadata": {},
   "source": [
    "Verification of 3.2.1 Stochiometric Surfaces\n",
    "\n",
    "start by creating surfaces with flourite structure"
   ]
  },
  {
   "cell_type": "code",
   "execution_count": 1,
   "metadata": {},
   "outputs": [],
   "source": [
    "from ase.io import read, write\n",
    "from ase.build import surface, make_supercell\n",
    "from pymatgen.core.surface import SlabGenerator\n",
    "from pymatgen.core.structure import Structure\n",
    "\n",
    "structure = read(\"bulk.cif\")\n",
    "\n",
    "\n",
    "def get_cell_length_c(file_path):\n",
    "    with open(file_path, 'r') as file:\n",
    "        for line in file:\n",
    "            if line.startswith('_cell_length_c'):\n",
    "                # Extract the value after the key\n",
    "                _, value = line.split()\n",
    "                return float(value)\n",
    "    raise ValueError(\"_cell_length_c not found in the file.\")"
   ]
  },
  {
   "cell_type": "code",
   "execution_count": 3,
   "metadata": {},
   "outputs": [
    {
     "name": "stdout",
     "output_type": "stream",
     "text": [
      "Supercell Slab 1 does not have 672 atoms and was not saved.\n",
      "Supercell Slab 2 with 672 atoms saved as 111slab.cif\n",
      "Supercell Slab 3 does not have 672 atoms and was not saved.\n"
     ]
    }
   ],
   "source": [
    "# (111) surface\n",
    "slab = surface(structure, (1,1,1), layers=28, vacuum=0.0)\n",
    "supercell = make_supercell(slab,[[2,0,0],[0,2,0],[0,0,1]])\n",
    "write('111supercell.cif', supercell, format='cif')\n",
    "\n",
    "file_path = '111supercell.cif'\n",
    "min_slab_size = get_cell_length_c(file_path)\n",
    "\n",
    "bulk_structure = Structure.from_file(\"bulk.cif\")\n",
    "\n",
    "# Generate slabs with different termination types\n",
    "slabgen = SlabGenerator(\n",
    "    bulk_structure,\n",
    "    miller_index=(1, 1, 1),  # Miller index of the surface plane\n",
    "    min_slab_size=min_slab_size,      # Minimum slab thickness in Angstroms\n",
    "    min_vacuum_size=200.0,    # Minimum vacuum size in Angstroms\n",
    "    lll_reduce=False         # Whether to use the LLL algorithm to reduce the cell\n",
    ")\n",
    "\n",
    "slabs = slabgen.get_slabs(\n",
    "    symmetrize=True,     # Whether to symmetrize the slab\n",
    "    tol=0.1,              # Symmetrization tolerance\n",
    "    bonds=None,           # Custom bonds to pass to the slab generator\n",
    "    max_broken_bonds=0   # Maximum number of broken bonds allowed in the slab\n",
    ")\n",
    "\n",
    "# Create a 4x4 supercell in the xy-axis for each slab and save them\n",
    "for i, slab in enumerate(slabs):\n",
    "    # Create the 2x2 supercell for the slab\n",
    "    supercell_scaling_matrix = [[4, 0, 0], [0, 4, 0], [0, 0, 1]]\n",
    "    supercell = slab.make_supercell(supercell_scaling_matrix)\n",
    "    # Check if the total number of atoms in the supercell is equal to 336\n",
    "    if len(supercell) == 1344:\n",
    "        # Optionally, write the supercell slab to a file named 111slab.cif only if the condition is met\n",
    "        supercell.to(fmt=\"cif\", filename=\"111slab.cif\")\n",
    "        print(f\"Supercell Slab {i+1} with 672 atoms saved as 111slab.cif\")\n",
    "    else:\n",
    "        print(f\"Supercell Slab {i+1} does not have 672 atoms and was not saved.\")\n"
   ]
  },
  {
   "cell_type": "code",
   "execution_count": 4,
   "metadata": {},
   "outputs": [],
   "source": [
    "# (110) surface\n",
    "slab = surface(structure, (1,1,0), layers=20, vacuum=0.0)\n",
    "supercell = make_supercell(slab,[[2,0,0],[0,2,0],[0,0,1]])\n",
    "write('110supercell.cif', supercell, format='cif')\n",
    "\n",
    "file_path = '110supercell.cif'\n",
    "min_slab_size = get_cell_length_c(file_path)\n",
    "\n",
    "bulk_structure = Structure.from_file(\"bulk.cif\")\n",
    "\n",
    "# Generate slabs with different termination types\n",
    "slabgen = SlabGenerator(\n",
    "    bulk_structure,\n",
    "    miller_index=(1, 1, 0),  # Miller index of the surface plane\n",
    "    min_slab_size=min_slab_size,      # Minimum slab thickness in Angstroms\n",
    "    min_vacuum_size=120.0,    # Minimum vacuum size in Angstroms\n",
    "    lll_reduce=False         # Whether to use the LLL algorithm to reduce the cell\n",
    ")\n",
    "\n",
    "slabs = slabgen.get_slabs(\n",
    "    symmetrize=True,     # Whether to symmetrize the slab\n",
    "    tol=0.1,              # Symmetrization tolerance\n",
    "    bonds=None,           # Custom bonds to pass to the slab generator\n",
    "    max_broken_bonds=0   # Maximum number of broken bonds allowed in the slab\n",
    ")\n",
    "\n",
    "# Create a 4x4 supercell in the xy-axis for each slab and save them\n",
    "for i, slab in enumerate(slabs):\n",
    "    # Create the 2x2 supercell for the slab\n",
    "    supercell_scaling_matrix = [[4, 0, 0], [0, 4, 0], [0, 0, 1]]\n",
    "    supercell = slab.make_supercell(supercell_scaling_matrix)\n",
    "    supercell.to(fmt=\"cif\", filename=\"110slab.cif\")\n",
    "    "
   ]
  }
 ],
 "metadata": {
  "kernelspec": {
   "display_name": "Python 3",
   "language": "python",
   "name": "python3"
  },
  "language_info": {
   "codemirror_mode": {
    "name": "ipython",
    "version": 3
   },
   "file_extension": ".py",
   "mimetype": "text/x-python",
   "name": "python",
   "nbconvert_exporter": "python",
   "pygments_lexer": "ipython3",
   "version": "3.12.6"
  }
 },
 "nbformat": 4,
 "nbformat_minor": 2
}
